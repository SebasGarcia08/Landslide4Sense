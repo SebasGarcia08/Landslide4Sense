{
 "cells": [
  {
   "cell_type": "code",
   "execution_count": 29,
   "metadata": {},
   "outputs": [],
   "source": [
    "from landslide4sense.data import LandslideDataSet\n",
    "import albumentations as A\n",
    "import numpy as np"
   ]
  },
  {
   "cell_type": "code",
   "execution_count": 4,
   "metadata": {},
   "outputs": [
    {
     "data": {
      "text/plain": [
       "{'data': {'dir': '${hydra:runtime.cwd}/data/', 'train_list': '${hydra:runtime.cwd}/data/train_split_train.txt', 'eval_lists_paths': ['${hydra:runtime.cwd}/data/train_split_train.txt', '${hydra:runtime.cwd}/data/train_split_val.txt'], 'eval_names': ['train', 'val'], 'test_list': '${hydra:runtime.cwd}/data/valid.txt'}, 'model': {'input_size': '128,128', 'num_classes': 2, 'module': 'landslide4sense.models', 'name': 'Unet'}, 'train': {'run_name': 'baseline_split', 'tags': ['val_split'], 'early_stopping': {'monitor': 'val_f1', 'mode': 'max', 'patience': 3, 'best_result': 0.5}, 'steps_per_epoch': 34, 'batch_size': 100, 'num_workers': 2, 'learning_rate': 0.001, 'num_steps': 10000, 'num_steps_stop': 10000, 'weight_decay': 0.0005, 'gpu_id': 0, 'snapshot_dir': '/content/drive/MyDrive/data_science_projects/landslide4sense-2022/models/', 'restore_from': '', 'seed': 42}}"
      ]
     },
     "execution_count": 4,
     "metadata": {},
     "output_type": "execute_result"
    }
   ],
   "source": [
    "import omegaconf\n",
    "cfg = omegaconf.OmegaConf.load(\"../conf/config.yaml\")\n",
    "cfg"
   ]
  },
  {
   "cell_type": "code",
   "execution_count": 7,
   "metadata": {},
   "outputs": [],
   "source": [
    "dataset = LandslideDataSet(\n",
    "    \"../data/\",\n",
    "    \"../data/train_split_train.txt\",\n",
    "    max_iters=cfg.train.num_steps_stop * cfg.train.batch_size,\n",
    "    set=\"labeled\",\n",
    ")"
   ]
  },
  {
   "cell_type": "code",
   "execution_count": 11,
   "metadata": {},
   "outputs": [],
   "source": [
    "img, label, shape, name = next(iter(dataset))"
   ]
  },
  {
   "cell_type": "code",
   "execution_count": 24,
   "metadata": {},
   "outputs": [
    {
     "data": {
      "text/plain": [
       "(14, 128, 128)"
      ]
     },
     "execution_count": 24,
     "metadata": {},
     "output_type": "execute_result"
    }
   ],
   "source": [
    "img.shape"
   ]
  },
  {
   "cell_type": "code",
   "execution_count": 43,
   "metadata": {},
   "outputs": [
    {
     "name": "stdout",
     "output_type": "stream",
     "text": [
      "(128, 128)\n",
      "(128, 128)\n",
      "(128, 128)\n",
      "(128, 128)\n",
      "(128, 128)\n",
      "(128, 128)\n",
      "(128, 128)\n",
      "(128, 128)\n",
      "(128, 128)\n",
      "(128, 128)\n",
      "(128, 128)\n",
      "(128, 128)\n",
      "(128, 128)\n",
      "(128, 128)\n"
     ]
    },
    {
     "data": {
      "text/plain": [
       "array([[[1.3612964 , 1.3612964 , 1.3612964 , ..., 1.5300908 ,\n",
       "         1.5300908 , 1.5300908 ],\n",
       "        [1.3587042 , 1.3587042 , 1.3587042 , ..., 1.5300908 ,\n",
       "         1.5300908 , 1.5300908 ],\n",
       "        [1.354816  , 1.3565779 , 1.3574383 , ..., 1.5300908 ,\n",
       "         1.5300908 , 1.5300908 ],\n",
       "        ...,\n",
       "        [1.784729  , 1.8573105 , 1.9194176 , ..., 1.38541   ,\n",
       "         1.3863595 , 1.3883036 ],\n",
       "        [1.784729  , 1.8573105 , 1.9194179 , ..., 1.3825616 ,\n",
       "         1.3833034 , 1.3848222 ],\n",
       "        [1.784729  , 1.8573105 , 1.9194179 , ..., 1.3767292 ,\n",
       "         1.3770456 , 1.3776937 ]],\n",
       "\n",
       "       [[1.1877761 , 1.2044891 , 1.1844723 , ..., 1.195528  ,\n",
       "         1.1727474 , 1.1504633 ],\n",
       "        [1.215631  , 1.2123814 , 1.1977614 , ..., 1.1921622 ,\n",
       "         1.1797546 , 1.1718189 ],\n",
       "        [1.2386274 , 1.2193177 , 1.207089  , ..., 1.1821527 ,\n",
       "         1.1766899 , 1.177865  ],\n",
       "        ...,\n",
       "        [1.6002886 , 1.4500604 , 1.3226446 , ..., 1.1017742 ,\n",
       "         1.1090305 , 1.1103652 ],\n",
       "        [1.33951   , 1.2674208 , 1.2286041 , ..., 1.1008343 ,\n",
       "         1.1040239 , 1.099396  ],\n",
       "        [1.2568737 , 1.2215908 , 1.2087429 , ..., 1.0982083 ,\n",
       "         1.097539  , 1.0910394 ]],\n",
       "\n",
       "       [[1.8726486 , 2.1104047 , 2.251958  , ..., 1.0018238 ,\n",
       "         1.0500183 , 1.0934546 ],\n",
       "        [1.8669333 , 1.9964025 , 2.1021638 , ..., 1.0482427 ,\n",
       "         1.08022   , 1.1106005 ],\n",
       "        [1.8895818 , 1.9780796 , 2.06135   , ..., 1.0517483 ,\n",
       "         1.0474629 , 1.0341752 ],\n",
       "        ...,\n",
       "        [0.6894497 , 0.6937362 , 0.72388315, ..., 2.8840137 ,\n",
       "         2.8257496 , 2.8551478 ],\n",
       "        [0.680066  , 0.6997659 , 0.7461009 , ..., 2.770663  ,\n",
       "         2.6636522 , 2.66851   ],\n",
       "        [0.6766369 , 0.7109286 , 0.76853347, ..., 2.614653  ,\n",
       "         2.4753332 , 2.6399336 ]],\n",
       "\n",
       "       ...,\n",
       "\n",
       "       [[1.148336  , 1.0993426 , 1.0385972 , ..., 0.20662093,\n",
       "         0.20115189, 0.18995339],\n",
       "        [1.0965431 , 1.0475496 , 0.9823642 , ..., 0.08903677,\n",
       "         0.09045743, 0.09336641],\n",
       "        [1.0419829 , 0.989818  , 0.9209155 , ..., 0.03161195,\n",
       "         0.03639735, 0.04619603],\n",
       "        ...,\n",
       "        [0.8288208 , 0.99329865, 1.0736251 , ..., 0.3989063 ,\n",
       "         0.38066804, 0.36896646],\n",
       "        [0.8920728 , 1.158037  , 1.2513736 , ..., 0.46285152,\n",
       "         0.4476815 , 0.43788278],\n",
       "        [0.8920728 , 1.158037  , 1.1765275 , ..., 0.46285152,\n",
       "         0.4476815 , 0.43788278]],\n",
       "\n",
       "       [[1.4331716 , 1.4331716 , 1.4084101 , ..., 1.2991178 ,\n",
       "         1.3418101 , 1.3785253 ],\n",
       "        [1.3597409 , 1.3597409 , 1.3516159 , ..., 1.2056085 ,\n",
       "         1.2196169 , 1.2316642 ],\n",
       "        [1.2000718 , 1.2000718 , 1.2112919 , ..., 1.1239597 ,\n",
       "         1.1351798 , 1.1351798 ],\n",
       "        ...,\n",
       "        [1.5825944 , 1.4925271 , 1.4485407 , ..., 0.74753416,\n",
       "         1.0121994 , 1.199218  ],\n",
       "        [1.7064018 , 1.6329713 , 1.5971098 , ..., 0.50853765,\n",
       "         0.7289363 , 0.9251339 ],\n",
       "        [1.7064018 , 1.6329713 , 1.5971098 , ..., 0.42478085,\n",
       "         0.52126527, 0.6681266 ]],\n",
       "\n",
       "       [[2.0208511 , 2.0188313 , 2.016029  , ..., 1.9460576 ,\n",
       "         1.9433804 , 1.9406874 ],\n",
       "        [2.0242176 , 2.0221977 , 2.0197    , ..., 1.9530321 ,\n",
       "         1.9492188 , 1.9460735 ],\n",
       "        [2.0281317 , 2.0245867 , 2.021493  , ..., 1.9607306 ,\n",
       "         1.9563055 , 1.9532444 ],\n",
       "        ...,\n",
       "        [1.7432841 , 1.7369196 , 1.7295194 , ..., 1.9648304 ,\n",
       "         1.9622309 , 1.956908  ],\n",
       "        [1.7432842 , 1.7372248 , 1.7301793 , ..., 1.9658875 ,\n",
       "         1.9634371 , 1.9587243 ],\n",
       "        [1.7432841 , 1.7372248 , 1.7301793 , ..., 1.9661927 ,\n",
       "         1.9634371 , 1.9587243 ]]], dtype=float32)"
      ]
     },
     "execution_count": 43,
     "metadata": {},
     "output_type": "execute_result"
    }
   ],
   "source": [
    "aug = A.Compose([\n",
    "    A.HorizontalFlip(p=0.5),\n",
    "    A.VerticalFlip(p=0.5),\n",
    "    A.RandomRotate90(p=0.5),\n",
    "    A.Transpose(p=0.5),\n",
    "    A.RandomSizedCrop(\n",
    "        min_max_height=(100, 100), \n",
    "        height=128, \n",
    "        width=128, \n",
    "        p=0.5\n",
    "    )\n",
    "])\n",
    "\n",
    "augmented_channels = []\n",
    "\n",
    "for ch in range(img.shape[0]):\n",
    "    channel_img = img[ch, ...]\n",
    "    augmented = aug(image=channel_img, mask=label)\n",
    "    augmented_img = augmented[\"image\"]\n",
    "    mask = augmented[\"mask\"]\n",
    "    augmented_channels.append(augmented_img)\n",
    "\n",
    "augmented_channels = np.array(augmented_channels)[np.newaxis, ...]\n",
    "augmented_img = np.concatenate(augmented_channels, axis=0)\n",
    "augmented_img"
   ]
  }
 ],
 "metadata": {
  "interpreter": {
   "hash": "31f2aee4e71d21fbe5cf8b01ff0e069b9275f58929596ceb00d14d90e3e16cd6"
  },
  "kernelspec": {
   "display_name": "Python 3.8.2 64-bit",
   "language": "python",
   "name": "python3"
  },
  "language_info": {
   "codemirror_mode": {
    "name": "ipython",
    "version": 3
   },
   "file_extension": ".py",
   "mimetype": "text/x-python",
   "name": "python",
   "nbconvert_exporter": "python",
   "pygments_lexer": "ipython3",
   "version": "3.7.13"
  },
  "orig_nbformat": 4
 },
 "nbformat": 4,
 "nbformat_minor": 2
}
