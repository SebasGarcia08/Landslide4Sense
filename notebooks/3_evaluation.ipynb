{
 "cells": [
  {
   "cell_type": "code",
   "execution_count": 4,
   "metadata": {},
   "outputs": [],
   "source": [
    "from landslide4sense.models import Unet\n",
    "from landslide4sense.data import LandslideDataSet\n",
    "from landslide4sense.utils.tools import eval_image\n",
    "from landslide4sense.utils import set_deterministic\n",
    "from landslide4sense.models import Unet\n",
    "from landslide4sense import EPSILON\n",
    "from torch.utils.data import DataLoader\n",
    "import torch\n",
    "import torch.nn.functional as F\n",
    "import omegaconf\n",
    "import matplotlib.pyplot as plt\n",
    "from torch.nn import Upsample, CrossEntropyLoss\n",
    "import numpy as np\n",
    "from tqdm import tqdm\n",
    "import sys\n",
    "import numba\n",
    "import random\n",
    "from landslide4sense.experiments import (\n",
    "    setup_model,\n",
    "    setup_datasets\n",
    ")"
   ]
  },
  {
   "cell_type": "code",
   "execution_count": 2,
   "metadata": {},
   "outputs": [
    {
     "data": {
      "text/plain": [
       "{'data': {'dir': '${hydra:runtime.cwd}/data/', 'train_list': '${hydra:runtime.cwd}/data/train.txt', 'eval_lists_paths': ['${hydra:runtime.cwd}/data/train.txt'], 'eval_names': ['train'], 'test_list': '${hydra:runtime.cwd}/data/valid.txt', 'input_size': [128, 128], 'augmentation': {'module': 'landslide4sense.data.augmentations', 'name': 'transforms'}}, 'model': {'restore_from': '/content/drive/MyDrive/data_science_projects/landslide4sense-2022/models/quiet-salad-43/epoch_4_train_f1=73.748/model.pth', 'module': 'segmentation_models_pytorch', 'name': 'UnetPlusPlus', 'args': {'in_channels': 14, 'classes': 2}}, 'optimizer': {'restore_from': None, 'module': 'torch.optim', 'name': 'Adam', 'args': {'lr': 0.001, 'weight_decay': 0.0005}}, 'loss': {'module': 'segmentation_models_pytorch.losses', 'name': 'DiceLoss', 'args': {'ignore_index': 255, 'mode': 'multiclass'}}, 'train': {'start_epoch': 0, 'steps_per_epoch': 125, 'batch_size': 128, 'num_workers': 2, 'num_steps': 10000, 'num_steps_stop': 10000, 'gpu_id': 0, 'snapshot_dir': '/content/drive/MyDrive/data_science_projects/landslide4sense-2022/models/', 'seed': 42, 'callbacks': {'early_stopping': {'monitor': 'train_f1', 'mode': 'max', 'patience': 10, 'best_result': 0.5}, 'wandb': {'group': 'Unet++', 'tags': ['val_split', 'spatial_data_aug', 'sgd_momentum', 'non_spatial_data_aug']}}}, 'predict': {'snapshot_dir': '/content/drive/MyDrive/data_science_projects/landslide4sense-2022/predictions/quiet-salad-43@0.5/', 'threshold': 0.5}}"
      ]
     },
     "execution_count": 2,
     "metadata": {},
     "output_type": "execute_result"
    }
   ],
   "source": [
    "device = \"cuda\" if torch.cuda.is_available() else \"cpu\"\n",
    "cfg = omegaconf.OmegaConf.load(\"../conf/config.yaml\")\n",
    "set_deterministic(cfg.train.seed)\n",
    "cfg"
   ]
  },
  {
   "cell_type": "code",
   "execution_count": 6,
   "metadata": {},
   "outputs": [],
   "source": [
    "model = setup_model(cfg)\n",
    "interp = torch.nn.Upsample(size=(128, 128), mode=\"bilinear\")"
   ]
  },
  {
   "cell_type": "code",
   "execution_count": 7,
   "metadata": {},
   "outputs": [],
   "source": [
    "train_dataset = LandslideDataSet(\n",
    "    \"../data/\",\n",
    "    \"../data/train_cleaned.txt\",\n",
    "    max_iters=1,\n",
    "    set=\"labeled\",\n",
    ")\n",
    "\n",
    "train_loader: DataLoader[LandslideDataSet] = DataLoader(\n",
    "    train_dataset,\n",
    "    batch_size=1,\n",
    "    shuffle=True,\n",
    "    num_workers=cfg.train.num_workers,\n",
    "    pin_memory=True,\n",
    ")"
   ]
  },
  {
   "cell_type": "code",
   "execution_count": 8,
   "metadata": {},
   "outputs": [
    {
     "name": "stderr",
     "output_type": "stream",
     "text": [
      "Evaluating on val...:   0%|          | 0/2481 [00:00<?, ?it/s]/usr/local/lib/python3.7/dist-packages/torch/nn/functional.py:3635: UserWarning: Default upsampling behavior when mode=bilinear is changed to align_corners=False since 0.4.0. Please specify align_corners=True if the old behavior is desired. See the documentation of nn.Upsample for details.\n",
      "  \"See the documentation of nn.Upsample for details.\".format(mode)\n",
      "Evaluating on val...: 100%|██████████| 2481/2481 [08:52<00:00,  4.66it/s]\n"
     ]
    }
   ],
   "source": [
    "model.eval()\n",
    "all_preds = []\n",
    "all_labels = []\n",
    "pbar = tqdm(\n",
    "    enumerate(train_loader),\n",
    "    desc=f\"Evaluating on val...\",\n",
    "    total=len(train_loader),\n",
    ")\n",
    "\n",
    "num_zeros = 0\n",
    "\n",
    "for i, batch in pbar:\n",
    "    image, label, _, name = batch\n",
    "    label = label.squeeze().numpy().astype(np.uint8)\n",
    "    image = image.float().to(device)\n",
    "\n",
    "    with torch.no_grad():\n",
    "        pred = model(image)\n",
    "\n",
    "    pred = interp(F.softmax(pred, dim=1)).half().detach()\n",
    "    all_preds.append(pred)\n",
    "    all_labels.append(label)"
   ]
  },
  {
   "cell_type": "code",
   "execution_count": 9,
   "metadata": {},
   "outputs": [
    {
     "data": {
      "text/plain": [
       "(2481, 128, 128)"
      ]
     },
     "execution_count": 9,
     "metadata": {},
     "output_type": "execute_result"
    }
   ],
   "source": [
    "preds = torch.cat(all_preds).numpy()\n",
    "labels = np.array(all_labels)\n",
    "labels.shape"
   ]
  },
  {
   "cell_type": "code",
   "execution_count": 10,
   "metadata": {},
   "outputs": [],
   "source": [
    "def evaluate(y_pred, y_true):\n",
    "    TP, FP, TN, FN, n_valid_sample = eval_image(\n",
    "        y_pred.astype(np.uint8).squeeze().reshape(-1) , \n",
    "        y_true.astype(np.uint8).squeeze().reshape(-1), \n",
    "        2\n",
    "    )\n",
    "\n",
    "    OA = np.sum(TP[1]) * 1.0 / n_valid_sample\n",
    "    P = np.squeeze((TP[1] * 1.0) / (TP[1] + FP[1] + EPSILON))\n",
    "    R = np.squeeze((TP[1] * 1.0) / (TP[1] + FN[1] + EPSILON))\n",
    "    F1 = (2.0 * P * R) / (P + R + EPSILON)\n",
    "    return OA, P, R, F1"
   ]
  },
  {
   "cell_type": "code",
   "execution_count": 11,
   "metadata": {},
   "outputs": [
    {
     "name": "stderr",
     "output_type": "stream",
     "text": [
      "100%|██████████| 100/100 [03:24<00:00,  2.04s/it]\n"
     ]
    }
   ],
   "source": [
    "num_classes = 2\n",
    "num_thresholds = 100\n",
    "\n",
    "def initialize_arrays(num: int, size: int):\n",
    "    arrays = []\n",
    "    for _ in range(num):\n",
    "        arrays.append(np.zeros((size, 1)))\n",
    "    return arrays\n",
    "\n",
    "thrs, f1s, ps, rs, oas = initialize_arrays(5, num_thresholds)\n",
    "\n",
    "for i, thr in tqdm(enumerate(np.linspace(.1, .9, num_thresholds)), total=num_thresholds):\n",
    "    y_pred = (preds[:, 1, :, :] > thr)\n",
    "    OA, P, R, F1 = evaluate(y_pred, labels)\n",
    "    thrs[i] = thr\n",
    "    oas[i] = OA\n",
    "    ps[i] = P\n",
    "    rs[i] = R\n",
    "    f1s[i] = F1"
   ]
  },
  {
   "cell_type": "code",
   "execution_count": 12,
   "metadata": {},
   "outputs": [
    {
     "data": {
      "text/plain": [
       "array(0.35050505)"
      ]
     },
     "execution_count": 12,
     "metadata": {},
     "output_type": "execute_result"
    }
   ],
   "source": [
    "optimal_thr = np.squeeze(thrs[f1s.argmax()])\n",
    "optimal_thr"
   ]
  },
  {
   "cell_type": "code",
   "execution_count": 13,
   "metadata": {},
   "outputs": [
    {
     "data": {
      "text/plain": [
       "0.7419906786474864"
      ]
     },
     "execution_count": 13,
     "metadata": {},
     "output_type": "execute_result"
    }
   ],
   "source": [
    "best_f1 = f1s.max()\n",
    "best_f1"
   ]
  },
  {
   "cell_type": "code",
   "execution_count": 15,
   "metadata": {},
   "outputs": [
    {
     "data": {
      "image/png": "[encoded data removed]",
      "text/plain": [
       "<Figure size 432x288 with 1 Axes>"
      ]
     },
     "metadata": {
      "needs_background": "light"
     },
     "output_type": "display_data"
    }
   ],
   "source": [
    "plt.plot(thrs, f1s, label=f\"F1: {np.round(best_f1,2 )}\")\n",
    "plt.plot(thrs, ps, label=\"Precision\")\n",
    "plt.plot(thrs, rs, label=\"Recall\")\n",
    "#plt.xlim(optimal_thr - .3, optimal_thr + .3)\n",
    "plt.axvline(optimal_thr, label=f\"Thr: {np.round(optimal_thr, 2)}\")\n",
    "plt.legend()\n",
    "plt.show()"
   ]
  },
  {
   "cell_type": "code",
   "execution_count": 38,
   "metadata": {},
   "outputs": [
    {
     "data": {
      "image/png": "[encoded data removed]",
      "text/plain": [
       "<Figure size 432x288 with 1 Axes>"
      ]
     },
     "metadata": {
      "needs_background": "light"
     },
     "output_type": "display_data"
    }
   ],
   "source": [
    "plt.hist(preds.squeeze().reshape(-1), bins=100)\n",
    "plt.show()"
   ]
  },
  {
   "cell_type": "markdown",
   "metadata": {},
   "source": [
    "# Visualiation"
   ]
  },
  {
   "cell_type": "code",
   "execution_count": 98,
   "metadata": {},
   "outputs": [
    {
     "data": {
      "image/png": "[encoded data removed]",
      "text/plain": [
       "<Figure size 1080x360 with 3 Axes>"
      ]
     },
     "metadata": {
      "needs_background": "light"
     },
     "output_type": "display_data"
    }
   ],
   "source": [
    "index = 52\n",
    "\n",
    "predicted = (preds[index, 1, ...] > optimal_thr).astype('uint8')\n",
    "real = labels[index, ...]\n",
    "\n",
    "fig, ax = plt.subplots(nrows=1, ncols=3, figsize=(15, 5))\n",
    "ax[0].imshow(predicted, cmap=\"gray\")\n",
    "ax[0].set_title(\"Predicted\")\n",
    "\n",
    "ax[1].imshow(real, cmap=\"gray\")\n",
    "ax[1].set_title(\"Real\")\n",
    "\n",
    "error = np.zeros((*real.shape, 3))\n",
    "\n",
    "error[..., 0] = (real != predicted)\n",
    "error[..., 1] = (real == 1) & (real == predicted)\n",
    "ax[2].imshow(error)\n",
    "ax[2].set_title(\"Error\")\n",
    "\n",
    "plt.show()"
   ]
  },
  {
   "cell_type": "markdown",
   "metadata": {},
   "source": [
    "## How many no-mask images do the dataset have?"
   ]
  },
  {
   "cell_type": "code",
   "execution_count": 18,
   "metadata": {},
   "outputs": [],
   "source": [
    "train_dataset = LandslideDataSet(\n",
    "    \"../data/\",\n",
    "    \"../data/train.txt\",\n",
    "    max_iters=1,\n",
    "    set=\"labeled\",\n",
    ")\n",
    "\n",
    "train_loader: DataLoader[LandslideDataSet] = DataLoader(\n",
    "    train_dataset,\n",
    "    batch_size=1,\n",
    "    shuffle=True,\n",
    "    num_workers=cfg.train.num_workers,\n",
    "    pin_memory=True,\n",
    ")"
   ]
  },
  {
   "cell_type": "code",
   "execution_count": 19,
   "metadata": {},
   "outputs": [
    {
     "name": "stderr",
     "output_type": "stream",
     "text": [
      "perc. of zeros = 41.26%: 100%|██████████| 3800/3800 [01:03<00:00, 59.91it/s]\n"
     ]
    }
   ],
   "source": [
    "zeros = 0\n",
    "pbar = tqdm(\n",
    "    enumerate(train_loader),\n",
    "    desc=f\"Evaluating on train...\",\n",
    "    total=len(train_loader),\n",
    ")\n",
    "clean_names = []\n",
    "zero_mask_names = []\n",
    "\n",
    "for i, batch in pbar:\n",
    "    image, label, _, name = batch\n",
    "    pixel_sum = label.sum()\n",
    "    if pixel_sum == 0:\n",
    "        zeros += 1\n",
    "        zero_mask_names.append(name[0])\n",
    "    else:\n",
    "        clean_names.append(name[0])\n",
    "    perc = (zeros / (i+1)) * 100\n",
    "    perc = round(perc, 2)\n",
    "    pbar.set_description(f\"perc. of zeros = {perc}%\")"
   ]
  },
  {
   "cell_type": "code",
   "execution_count": 20,
   "metadata": {},
   "outputs": [],
   "source": [
    "random.shuffle(zero_mask_names)"
   ]
  },
  {
   "cell_type": "code",
   "execution_count": 23,
   "metadata": {},
   "outputs": [
    {
     "data": {
      "text/plain": [
       "248"
      ]
     },
     "execution_count": 23,
     "metadata": {},
     "output_type": "execute_result"
    }
   ],
   "source": [
    "desired_perc_zero_mask = 0.1\n",
    "num_selected_zero_mask = int((desired_perc_zero_mask * len(clean_names)) / (1 - desired_perc_zero_mask))\n",
    "num_selected_zero_mask"
   ]
  },
  {
   "cell_type": "code",
   "execution_count": 24,
   "metadata": {},
   "outputs": [],
   "source": [
    "selected_zero_mask_names = zero_mask_names[:num_selected_zero_mask]"
   ]
  },
  {
   "cell_type": "code",
   "execution_count": 25,
   "metadata": {},
   "outputs": [],
   "source": [
    "cleaned_names = selected_zero_mask_names + clean_names"
   ]
  },
  {
   "cell_type": "code",
   "execution_count": 27,
   "metadata": {},
   "outputs": [
    {
     "data": {
      "text/plain": [
       "0.1"
      ]
     },
     "execution_count": 27,
     "metadata": {},
     "output_type": "execute_result"
    }
   ],
   "source": [
    "len(selected_zero_mask_names) / len(cleaned_names)"
   ]
  },
  {
   "cell_type": "code",
   "execution_count": 28,
   "metadata": {},
   "outputs": [],
   "source": [
    "random.shuffle(cleaned_names)"
   ]
  },
  {
   "cell_type": "code",
   "execution_count": 29,
   "metadata": {},
   "outputs": [],
   "source": [
    "with open(\"/content/drive/MyDrive/data_science_projects/landslide4sense-2022/data/train_cleaned.txt\", \"w\") as f:\n",
    "    for name in cleaned_names:\n",
    "        f.write(name + \"\\n\")"
   ]
  },
  {
   "cell_type": "code",
   "execution_count": 30,
   "metadata": {},
   "outputs": [
    {
     "data": {
      "text/plain": [
       "2480"
      ]
     },
     "execution_count": 30,
     "metadata": {},
     "output_type": "execute_result"
    }
   ],
   "source": [
    "len(cleaned_names)"
   ]
  },
  {
   "cell_type": "code",
   "execution_count": 32,
   "metadata": {},
   "outputs": [
    {
     "data": {
      "text/plain": [
       "2232"
      ]
     },
     "execution_count": 32,
     "metadata": {},
     "output_type": "execute_result"
    }
   ],
   "source": [
    "train_dataset = LandslideDataSet(\n",
    "    \"../data/\",\n",
    "    \"../data/train_cleaned.txt\",\n",
    "    max_iters=1,\n",
    "    set=\"labeled\",\n",
    ")\n",
    "\n",
    "train_loader: DataLoader[LandslideDataSet] = DataLoader(\n",
    "    train_dataset,\n",
    "    batch_size=1,\n",
    "    shuffle=True,\n",
    "    num_workers=cfg.train.num_workers,\n",
    "    pin_memory=True,\n",
    ")\n",
    "\n",
    "zeros = 0\n",
    "pbar = tqdm(\n",
    "    enumerate(train_loader),\n",
    "    desc=f\"Evaluating on train...\",\n",
    "    total=len(train_loader),\n",
    ")\n",
    "clean_names = []\n",
    "zero_mask_names = []\n",
    "\n",
    "for i, batch in pbar:\n",
    "    image, label, _, name = batch\n",
    "    pixel_sum = label.sum()\n",
    "    if pixel_sum == 0:\n",
    "        zeros += 1\n",
    "        zero_mask_names.append(name[0])\n",
    "    else:\n",
    "        clean_names.append(name[0])\n",
    "    perc = (zeros / (i+1)) * 100\n",
    "    perc = round(perc, 2)\n",
    "    pbar.set_description(f\"perc. of zeros = {perc}%\")"
   ]
  }
 ],
 "metadata": {
  "interpreter": {
   "hash": "931f95a48b1f956a525e0044c8cfe4391ad53e1dcbe6c822fd93d2d22ff4e3c2"
  },
  "kernelspec": {
   "display_name": "Python 3.8.13 ('landslide')",
   "language": "python",
   "name": "python3"
  },
  "language_info": {
   "codemirror_mode": {
    "name": "ipython",
    "version": 3
   },
   "file_extension": ".py",
   "mimetype": "text/x-python",
   "name": "python",
   "nbconvert_exporter": "python",
   "pygments_lexer": "ipython3",
   "version": "3.7.13"
  },
  "orig_nbformat": 4
 },
 "nbformat": 4,
 "nbformat_minor": 2
}
