{
 "cells": [
  {
   "cell_type": "code",
   "execution_count": 1,
   "metadata": {},
   "outputs": [],
   "source": [
    "from landslide4sense.models import Unet\n",
    "from landslide4sense.data import LandslideDataSet\n",
    "from landslide4sense.utils.tools import eval_image\n",
    "from landslide4sense.utils import set_deterministic\n",
    "from landslide4sense.models import Unet\n",
    "from landslide4sense import EPSILON\n",
    "from landslide4sense.experiments import (\n",
    "    setup_model,\n",
    "    setup_datasets\n",
    ")\n",
    "\n",
    "\n",
    "import random\n",
    "import sys\n",
    "\n",
    "import numpy as np\n",
    "import matplotlib.pyplot as plt\n",
    "\n",
    "from torch.utils.data import DataLoader\n",
    "import torch\n",
    "import torch.nn.functional as F\n",
    "from torch.nn import Upsample, CrossEntropyLoss\n",
    "\n",
    "import omegaconf\n",
    "from tqdm import tqdm"
   ]
  },
  {
   "cell_type": "code",
   "execution_count": 3,
   "metadata": {},
   "outputs": [
    {
     "data": {
      "text/plain": [
       "{'hydra': {'run': {'dir': './'}}, 'data': {'dir': './data/', 'train_list': 'data/train.txt', 'eval_lists_paths': ['./data/train.txt'], 'eval_names': ['train'], 'test_list': './data/valid.txt', 'input_size': [128, 128], 'augmentation': {'module': 'landslide4sense.data.augmentations', 'name': 'transforms'}}, 'model': {'restore_from': None, 'module': 'landslide4sense.models', 'name': 'SegFormer', 'args': {'in_channels': 14, 'num_classes': 2, 'widths': [64, 128, 256, 512], 'depths': [3, 4, 6, 3], 'all_num_heads': [1, 2, 4, 8], 'patch_sizes': [7, 3, 3, 3], 'overlap_sizes': [4, 2, 2, 2], 'reduction_ratios': [8, 4, 2, 1], 'mlp_expansions': [4, 4, 4, 4], 'decoder_channels': 256, 'scale_factors': [8, 4, 2, 1]}}, 'optimizer': {'restore_from': None, 'module': 'torch.optim', 'name': 'Adam', 'args': {'lr': 0.001, 'weight_decay': 0.0005}}, 'loss': {'module': 'torch.nn', 'name': 'CrossEntropyLoss', 'args': {'ignore_index': 255}}, 'train': {'start_epoch': 0, 'steps_per_epoch': 16, 'batch_size': 256, 'num_workers': 4, 'num_steps': 100000, 'num_steps_stop': 100000, 'gpu_id': 0, 'snapshot_dir': './models/', 'results_filename': 'train_results.json', 'seed': 42, 'callbacks': {'early_stopping': {'monitor': 'train_f1', 'mode': 'max', 'patience': 10, 'best_result': 0.5}, 'wandb': {'project': 'landslide4sense', 'name': 'fresh-sun-70', 'group': 'segformer', 'tags': ['val_split', 'spatial_data_aug', 'non_spatial_data_aug']}}}, 'calibrate': {'model_filename': 'best_model.pth', 'data_path': 'data/train.txt', 'results_filename': 'calibrate_results.json', 'num_thresholds': 100}, 'predict': {'snapshot_dir': './submissions/'}}"
      ]
     },
     "execution_count": 3,
     "metadata": {},
     "output_type": "execute_result"
    }
   ],
   "source": [
    "device = \"cuda\" if torch.cuda.is_available() else \"cpu\"\n",
    "cfg = omegaconf.OmegaConf.load(\"../params.yaml\")\n",
    "set_deterministic(cfg.train.seed)\n",
    "cfg"
   ]
  },
  {
   "cell_type": "code",
   "execution_count": 5,
   "metadata": {},
   "outputs": [
    {
     "name": "stdout",
     "output_type": "stream",
     "text": [
      "SegFormer(\n",
      "  (encoder): SegFormerEncoder(\n",
      "    (stages): ModuleList(\n",
      "      (0): SegFormerEncoderStage(\n",
      "        (overlap_patch_merge): OverlapPatchMerging(\n",
      "          (0): Conv2d(14, 64, kernel_size=(7, 7), stride=(4, 4), padding=(3, 3), bias=False)\n",
      "          (1): LayerNorm2d((64,), eps=1e-05, elementwise_affine=True)\n",
      "        )\n",
      "        (blocks): Sequential(\n",
      "          (0): SegFormerEncoderBlock(\n",
      "            (0): ResidualAdd(\n",
      "              (fn): Sequential(\n",
      "                (0): LayerNorm2d((64,), eps=1e-05, elementwise_affine=True)\n",
      "                (1): EfficientMultiHeadAttention(\n",
      "                  (reducer): Sequential(\n",
      "                    (0): Conv2d(64, 64, kernel_size=(8, 8), stride=(8, 8))\n",
      "                    (1): LayerNorm2d((64,), eps=1e-05, elementwise_affine=True)\n",
      "                  )\n",
      "                  (att): MultiheadAttention(\n",
      "                    (out_proj): NonDynamicallyQuantizableLinear(in_features=64, out_features=64, bias=True)\n",
      "                  )\n",
      "                )\n",
      "              )\n",
      "            )\n",
      "            (1): ResidualAdd(\n",
      "              (fn): Sequential(\n",
      "                (0): LayerNorm2d((64,), eps=1e-05, elementwise_affine=True)\n",
      "                (1): MixMLP(\n",
      "                  (0): Conv2d(64, 64, kernel_size=(1, 1), stride=(1, 1))\n",
      "                  (1): Conv2d(64, 256, kernel_size=(3, 3), stride=(1, 1), padding=(1, 1), groups=64)\n",
      "                  (2): GELU()\n",
      "                  (3): Conv2d(256, 64, kernel_size=(1, 1), stride=(1, 1))\n",
      "                )\n",
      "                (2): StochasticDepth(p=0.0, mode=batch)\n",
      "              )\n",
      "            )\n",
      "          )\n",
      "          (1): SegFormerEncoderBlock(\n",
      "            (0): ResidualAdd(\n",
      "              (fn): Sequential(\n",
      "                (0): LayerNorm2d((64,), eps=1e-05, elementwise_affine=True)\n",
      "                (1): EfficientMultiHeadAttention(\n",
      "                  (reducer): Sequential(\n",
      "                    (0): Conv2d(64, 64, kernel_size=(8, 8), stride=(8, 8))\n",
      "                    (1): LayerNorm2d((64,), eps=1e-05, elementwise_affine=True)\n",
      "                  )\n",
      "                  (att): MultiheadAttention(\n",
      "                    (out_proj): NonDynamicallyQuantizableLinear(in_features=64, out_features=64, bias=True)\n",
      "                  )\n",
      "                )\n",
      "              )\n",
      "            )\n",
      "            (1): ResidualAdd(\n",
      "              (fn): Sequential(\n",
      "                (0): LayerNorm2d((64,), eps=1e-05, elementwise_affine=True)\n",
      "                (1): MixMLP(\n",
      "                  (0): Conv2d(64, 64, kernel_size=(1, 1), stride=(1, 1))\n",
      "                  (1): Conv2d(64, 256, kernel_size=(3, 3), stride=(1, 1), padding=(1, 1), groups=64)\n",
      "                  (2): GELU()\n",
      "                  (3): Conv2d(256, 64, kernel_size=(1, 1), stride=(1, 1))\n",
      "                )\n",
      "                (2): StochasticDepth(p=0.0, mode=batch)\n",
      "              )\n",
      "            )\n",
      "          )\n",
      "          (2): SegFormerEncoderBlock(\n",
      "            (0): ResidualAdd(\n",
      "              (fn): Sequential(\n",
      "                (0): LayerNorm2d((64,), eps=1e-05, elementwise_affine=True)\n",
      "                (1): EfficientMultiHeadAttention(\n",
      "                  (reducer): Sequential(\n",
      "                    (0): Conv2d(64, 64, kernel_size=(8, 8), stride=(8, 8))\n",
      "                    (1): LayerNorm2d((64,), eps=1e-05, elementwise_affine=True)\n",
      "                  )\n",
      "                  (att): MultiheadAttention(\n",
      "                    (out_proj): NonDynamicallyQuantizableLinear(in_features=64, out_features=64, bias=True)\n",
      "                  )\n",
      "                )\n",
      "              )\n",
      "            )\n",
      "            (1): ResidualAdd(\n",
      "              (fn): Sequential(\n",
      "                (0): LayerNorm2d((64,), eps=1e-05, elementwise_affine=True)\n",
      "                (1): MixMLP(\n",
      "                  (0): Conv2d(64, 64, kernel_size=(1, 1), stride=(1, 1))\n",
      "                  (1): Conv2d(64, 256, kernel_size=(3, 3), stride=(1, 1), padding=(1, 1), groups=64)\n",
      "                  (2): GELU()\n",
      "                  (3): Conv2d(256, 64, kernel_size=(1, 1), stride=(1, 1))\n",
      "                )\n",
      "                (2): StochasticDepth(p=0.0, mode=batch)\n",
      "              )\n",
      "            )\n",
      "          )\n",
      "        )\n",
      "        (norm): LayerNorm2d((64,), eps=1e-05, elementwise_affine=True)\n",
      "      )\n",
      "      (1): SegFormerEncoderStage(\n",
      "        (overlap_patch_merge): OverlapPatchMerging(\n",
      "          (0): Conv2d(64, 128, kernel_size=(3, 3), stride=(2, 2), padding=(1, 1), bias=False)\n",
      "          (1): LayerNorm2d((128,), eps=1e-05, elementwise_affine=True)\n",
      "        )\n",
      "        (blocks): Sequential(\n",
      "          (0): SegFormerEncoderBlock(\n",
      "            (0): ResidualAdd(\n",
      "              (fn): Sequential(\n",
      "                (0): LayerNorm2d((128,), eps=1e-05, elementwise_affine=True)\n",
      "                (1): EfficientMultiHeadAttention(\n",
      "                  (reducer): Sequential(\n",
      "                    (0): Conv2d(128, 128, kernel_size=(4, 4), stride=(4, 4))\n",
      "                    (1): LayerNorm2d((128,), eps=1e-05, elementwise_affine=True)\n",
      "                  )\n",
      "                  (att): MultiheadAttention(\n",
      "                    (out_proj): NonDynamicallyQuantizableLinear(in_features=128, out_features=128, bias=True)\n",
      "                  )\n",
      "                )\n",
      "              )\n",
      "            )\n",
      "            (1): ResidualAdd(\n",
      "              (fn): Sequential(\n",
      "                (0): LayerNorm2d((128,), eps=1e-05, elementwise_affine=True)\n",
      "                (1): MixMLP(\n",
      "                  (0): Conv2d(128, 128, kernel_size=(1, 1), stride=(1, 1))\n",
      "                  (1): Conv2d(128, 512, kernel_size=(3, 3), stride=(1, 1), padding=(1, 1), groups=128)\n",
      "                  (2): GELU()\n",
      "                  (3): Conv2d(512, 128, kernel_size=(1, 1), stride=(1, 1))\n",
      "                )\n",
      "                (2): StochasticDepth(p=0.0, mode=batch)\n",
      "              )\n",
      "            )\n",
      "          )\n",
      "          (1): SegFormerEncoderBlock(\n",
      "            (0): ResidualAdd(\n",
      "              (fn): Sequential(\n",
      "                (0): LayerNorm2d((128,), eps=1e-05, elementwise_affine=True)\n",
      "                (1): EfficientMultiHeadAttention(\n",
      "                  (reducer): Sequential(\n",
      "                    (0): Conv2d(128, 128, kernel_size=(4, 4), stride=(4, 4))\n",
      "                    (1): LayerNorm2d((128,), eps=1e-05, elementwise_affine=True)\n",
      "                  )\n",
      "                  (att): MultiheadAttention(\n",
      "                    (out_proj): NonDynamicallyQuantizableLinear(in_features=128, out_features=128, bias=True)\n",
      "                  )\n",
      "                )\n",
      "              )\n",
      "            )\n",
      "            (1): ResidualAdd(\n",
      "              (fn): Sequential(\n",
      "                (0): LayerNorm2d((128,), eps=1e-05, elementwise_affine=True)\n",
      "                (1): MixMLP(\n",
      "                  (0): Conv2d(128, 128, kernel_size=(1, 1), stride=(1, 1))\n",
      "                  (1): Conv2d(128, 512, kernel_size=(3, 3), stride=(1, 1), padding=(1, 1), groups=128)\n",
      "                  (2): GELU()\n",
      "                  (3): Conv2d(512, 128, kernel_size=(1, 1), stride=(1, 1))\n",
      "                )\n",
      "                (2): StochasticDepth(p=0.0, mode=batch)\n",
      "              )\n",
      "            )\n",
      "          )\n",
      "          (2): SegFormerEncoderBlock(\n",
      "            (0): ResidualAdd(\n",
      "              (fn): Sequential(\n",
      "                (0): LayerNorm2d((128,), eps=1e-05, elementwise_affine=True)\n",
      "                (1): EfficientMultiHeadAttention(\n",
      "                  (reducer): Sequential(\n",
      "                    (0): Conv2d(128, 128, kernel_size=(4, 4), stride=(4, 4))\n",
      "                    (1): LayerNorm2d((128,), eps=1e-05, elementwise_affine=True)\n",
      "                  )\n",
      "                  (att): MultiheadAttention(\n",
      "                    (out_proj): NonDynamicallyQuantizableLinear(in_features=128, out_features=128, bias=True)\n",
      "                  )\n",
      "                )\n",
      "              )\n",
      "            )\n",
      "            (1): ResidualAdd(\n",
      "              (fn): Sequential(\n",
      "                (0): LayerNorm2d((128,), eps=1e-05, elementwise_affine=True)\n",
      "                (1): MixMLP(\n",
      "                  (0): Conv2d(128, 128, kernel_size=(1, 1), stride=(1, 1))\n",
      "                  (1): Conv2d(128, 512, kernel_size=(3, 3), stride=(1, 1), padding=(1, 1), groups=128)\n",
      "                  (2): GELU()\n",
      "                  (3): Conv2d(512, 128, kernel_size=(1, 1), stride=(1, 1))\n",
      "                )\n",
      "                (2): StochasticDepth(p=0.0, mode=batch)\n",
      "              )\n",
      "            )\n",
      "          )\n",
      "          (3): SegFormerEncoderBlock(\n",
      "            (0): ResidualAdd(\n",
      "              (fn): Sequential(\n",
      "                (0): LayerNorm2d((128,), eps=1e-05, elementwise_affine=True)\n",
      "                (1): EfficientMultiHeadAttention(\n",
      "                  (reducer): Sequential(\n",
      "                    (0): Conv2d(128, 128, kernel_size=(4, 4), stride=(4, 4))\n",
      "                    (1): LayerNorm2d((128,), eps=1e-05, elementwise_affine=True)\n",
      "                  )\n",
      "                  (att): MultiheadAttention(\n",
      "                    (out_proj): NonDynamicallyQuantizableLinear(in_features=128, out_features=128, bias=True)\n",
      "                  )\n",
      "                )\n",
      "              )\n",
      "            )\n",
      "            (1): ResidualAdd(\n",
      "              (fn): Sequential(\n",
      "                (0): LayerNorm2d((128,), eps=1e-05, elementwise_affine=True)\n",
      "                (1): MixMLP(\n",
      "                  (0): Conv2d(128, 128, kernel_size=(1, 1), stride=(1, 1))\n",
      "                  (1): Conv2d(128, 512, kernel_size=(3, 3), stride=(1, 1), padding=(1, 1), groups=128)\n",
      "                  (2): GELU()\n",
      "                  (3): Conv2d(512, 128, kernel_size=(1, 1), stride=(1, 1))\n",
      "                )\n",
      "                (2): StochasticDepth(p=0.0, mode=batch)\n",
      "              )\n",
      "            )\n",
      "          )\n",
      "        )\n",
      "        (norm): LayerNorm2d((128,), eps=1e-05, elementwise_affine=True)\n",
      "      )\n",
      "      (2): SegFormerEncoderStage(\n",
      "        (overlap_patch_merge): OverlapPatchMerging(\n",
      "          (0): Conv2d(128, 256, kernel_size=(3, 3), stride=(2, 2), padding=(1, 1), bias=False)\n",
      "          (1): LayerNorm2d((256,), eps=1e-05, elementwise_affine=True)\n",
      "        )\n",
      "        (blocks): Sequential(\n",
      "          (0): SegFormerEncoderBlock(\n",
      "            (0): ResidualAdd(\n",
      "              (fn): Sequential(\n",
      "                (0): LayerNorm2d((256,), eps=1e-05, elementwise_affine=True)\n",
      "                (1): EfficientMultiHeadAttention(\n",
      "                  (reducer): Sequential(\n",
      "                    (0): Conv2d(256, 256, kernel_size=(2, 2), stride=(2, 2))\n",
      "                    (1): LayerNorm2d((256,), eps=1e-05, elementwise_affine=True)\n",
      "                  )\n",
      "                  (att): MultiheadAttention(\n",
      "                    (out_proj): NonDynamicallyQuantizableLinear(in_features=256, out_features=256, bias=True)\n",
      "                  )\n",
      "                )\n",
      "              )\n",
      "            )\n",
      "            (1): ResidualAdd(\n",
      "              (fn): Sequential(\n",
      "                (0): LayerNorm2d((256,), eps=1e-05, elementwise_affine=True)\n",
      "                (1): MixMLP(\n",
      "                  (0): Conv2d(256, 256, kernel_size=(1, 1), stride=(1, 1))\n",
      "                  (1): Conv2d(256, 1024, kernel_size=(3, 3), stride=(1, 1), padding=(1, 1), groups=256)\n",
      "                  (2): GELU()\n",
      "                  (3): Conv2d(1024, 256, kernel_size=(1, 1), stride=(1, 1))\n",
      "                )\n",
      "                (2): StochasticDepth(p=0.0, mode=batch)\n",
      "              )\n",
      "            )\n",
      "          )\n",
      "          (1): SegFormerEncoderBlock(\n",
      "            (0): ResidualAdd(\n",
      "              (fn): Sequential(\n",
      "                (0): LayerNorm2d((256,), eps=1e-05, elementwise_affine=True)\n",
      "                (1): EfficientMultiHeadAttention(\n",
      "                  (reducer): Sequential(\n",
      "                    (0): Conv2d(256, 256, kernel_size=(2, 2), stride=(2, 2))\n",
      "                    (1): LayerNorm2d((256,), eps=1e-05, elementwise_affine=True)\n",
      "                  )\n",
      "                  (att): MultiheadAttention(\n",
      "                    (out_proj): NonDynamicallyQuantizableLinear(in_features=256, out_features=256, bias=True)\n",
      "                  )\n",
      "                )\n",
      "              )\n",
      "            )\n",
      "            (1): ResidualAdd(\n",
      "              (fn): Sequential(\n",
      "                (0): LayerNorm2d((256,), eps=1e-05, elementwise_affine=True)\n",
      "                (1): MixMLP(\n",
      "                  (0): Conv2d(256, 256, kernel_size=(1, 1), stride=(1, 1))\n",
      "                  (1): Conv2d(256, 1024, kernel_size=(3, 3), stride=(1, 1), padding=(1, 1), groups=256)\n",
      "                  (2): GELU()\n",
      "                  (3): Conv2d(1024, 256, kernel_size=(1, 1), stride=(1, 1))\n",
      "                )\n",
      "                (2): StochasticDepth(p=0.0, mode=batch)\n",
      "              )\n",
      "            )\n",
      "          )\n",
      "          (2): SegFormerEncoderBlock(\n",
      "            (0): ResidualAdd(\n",
      "              (fn): Sequential(\n",
      "                (0): LayerNorm2d((256,), eps=1e-05, elementwise_affine=True)\n",
      "                (1): EfficientMultiHeadAttention(\n",
      "                  (reducer): Sequential(\n",
      "                    (0): Conv2d(256, 256, kernel_size=(2, 2), stride=(2, 2))\n",
      "                    (1): LayerNorm2d((256,), eps=1e-05, elementwise_affine=True)\n",
      "                  )\n",
      "                  (att): MultiheadAttention(\n",
      "                    (out_proj): NonDynamicallyQuantizableLinear(in_features=256, out_features=256, bias=True)\n",
      "                  )\n",
      "                )\n",
      "              )\n",
      "            )\n",
      "            (1): ResidualAdd(\n",
      "              (fn): Sequential(\n",
      "                (0): LayerNorm2d((256,), eps=1e-05, elementwise_affine=True)\n",
      "                (1): MixMLP(\n",
      "                  (0): Conv2d(256, 256, kernel_size=(1, 1), stride=(1, 1))\n",
      "                  (1): Conv2d(256, 1024, kernel_size=(3, 3), stride=(1, 1), padding=(1, 1), groups=256)\n",
      "                  (2): GELU()\n",
      "                  (3): Conv2d(1024, 256, kernel_size=(1, 1), stride=(1, 1))\n",
      "                )\n",
      "                (2): StochasticDepth(p=0.0, mode=batch)\n",
      "              )\n",
      "            )\n",
      "          )\n",
      "          (3): SegFormerEncoderBlock(\n",
      "            (0): ResidualAdd(\n",
      "              (fn): Sequential(\n",
      "                (0): LayerNorm2d((256,), eps=1e-05, elementwise_affine=True)\n",
      "                (1): EfficientMultiHeadAttention(\n",
      "                  (reducer): Sequential(\n",
      "                    (0): Conv2d(256, 256, kernel_size=(2, 2), stride=(2, 2))\n",
      "                    (1): LayerNorm2d((256,), eps=1e-05, elementwise_affine=True)\n",
      "                  )\n",
      "                  (att): MultiheadAttention(\n",
      "                    (out_proj): NonDynamicallyQuantizableLinear(in_features=256, out_features=256, bias=True)\n",
      "                  )\n",
      "                )\n",
      "              )\n",
      "            )\n",
      "            (1): ResidualAdd(\n",
      "              (fn): Sequential(\n",
      "                (0): LayerNorm2d((256,), eps=1e-05, elementwise_affine=True)\n",
      "                (1): MixMLP(\n",
      "                  (0): Conv2d(256, 256, kernel_size=(1, 1), stride=(1, 1))\n",
      "                  (1): Conv2d(256, 1024, kernel_size=(3, 3), stride=(1, 1), padding=(1, 1), groups=256)\n",
      "                  (2): GELU()\n",
      "                  (3): Conv2d(1024, 256, kernel_size=(1, 1), stride=(1, 1))\n",
      "                )\n",
      "                (2): StochasticDepth(p=0.0, mode=batch)\n",
      "              )\n",
      "            )\n",
      "          )\n",
      "          (4): SegFormerEncoderBlock(\n",
      "            (0): ResidualAdd(\n",
      "              (fn): Sequential(\n",
      "                (0): LayerNorm2d((256,), eps=1e-05, elementwise_affine=True)\n",
      "                (1): EfficientMultiHeadAttention(\n",
      "                  (reducer): Sequential(\n",
      "                    (0): Conv2d(256, 256, kernel_size=(2, 2), stride=(2, 2))\n",
      "                    (1): LayerNorm2d((256,), eps=1e-05, elementwise_affine=True)\n",
      "                  )\n",
      "                  (att): MultiheadAttention(\n",
      "                    (out_proj): NonDynamicallyQuantizableLinear(in_features=256, out_features=256, bias=True)\n",
      "                  )\n",
      "                )\n",
      "              )\n",
      "            )\n",
      "            (1): ResidualAdd(\n",
      "              (fn): Sequential(\n",
      "                (0): LayerNorm2d((256,), eps=1e-05, elementwise_affine=True)\n",
      "                (1): MixMLP(\n",
      "                  (0): Conv2d(256, 256, kernel_size=(1, 1), stride=(1, 1))\n",
      "                  (1): Conv2d(256, 1024, kernel_size=(3, 3), stride=(1, 1), padding=(1, 1), groups=256)\n",
      "                  (2): GELU()\n",
      "                  (3): Conv2d(1024, 256, kernel_size=(1, 1), stride=(1, 1))\n",
      "                )\n",
      "                (2): StochasticDepth(p=0.0, mode=batch)\n",
      "              )\n",
      "            )\n",
      "          )\n",
      "          (5): SegFormerEncoderBlock(\n",
      "            (0): ResidualAdd(\n",
      "              (fn): Sequential(\n",
      "                (0): LayerNorm2d((256,), eps=1e-05, elementwise_affine=True)\n",
      "                (1): EfficientMultiHeadAttention(\n",
      "                  (reducer): Sequential(\n",
      "                    (0): Conv2d(256, 256, kernel_size=(2, 2), stride=(2, 2))\n",
      "                    (1): LayerNorm2d((256,), eps=1e-05, elementwise_affine=True)\n",
      "                  )\n",
      "                  (att): MultiheadAttention(\n",
      "                    (out_proj): NonDynamicallyQuantizableLinear(in_features=256, out_features=256, bias=True)\n",
      "                  )\n",
      "                )\n",
      "              )\n",
      "            )\n",
      "            (1): ResidualAdd(\n",
      "              (fn): Sequential(\n",
      "                (0): LayerNorm2d((256,), eps=1e-05, elementwise_affine=True)\n",
      "                (1): MixMLP(\n",
      "                  (0): Conv2d(256, 256, kernel_size=(1, 1), stride=(1, 1))\n",
      "                  (1): Conv2d(256, 1024, kernel_size=(3, 3), stride=(1, 1), padding=(1, 1), groups=256)\n",
      "                  (2): GELU()\n",
      "                  (3): Conv2d(1024, 256, kernel_size=(1, 1), stride=(1, 1))\n",
      "                )\n",
      "                (2): StochasticDepth(p=0.0, mode=batch)\n",
      "              )\n",
      "            )\n",
      "          )\n",
      "        )\n",
      "        (norm): LayerNorm2d((256,), eps=1e-05, elementwise_affine=True)\n",
      "      )\n",
      "      (3): SegFormerEncoderStage(\n",
      "        (overlap_patch_merge): OverlapPatchMerging(\n",
      "          (0): Conv2d(256, 512, kernel_size=(3, 3), stride=(2, 2), padding=(1, 1), bias=False)\n",
      "          (1): LayerNorm2d((512,), eps=1e-05, elementwise_affine=True)\n",
      "        )\n",
      "        (blocks): Sequential(\n",
      "          (0): SegFormerEncoderBlock(\n",
      "            (0): ResidualAdd(\n",
      "              (fn): Sequential(\n",
      "                (0): LayerNorm2d((512,), eps=1e-05, elementwise_affine=True)\n",
      "                (1): EfficientMultiHeadAttention(\n",
      "                  (reducer): Sequential(\n",
      "                    (0): Conv2d(512, 512, kernel_size=(1, 1), stride=(1, 1))\n",
      "                    (1): LayerNorm2d((512,), eps=1e-05, elementwise_affine=True)\n",
      "                  )\n",
      "                  (att): MultiheadAttention(\n",
      "                    (out_proj): NonDynamicallyQuantizableLinear(in_features=512, out_features=512, bias=True)\n",
      "                  )\n",
      "                )\n",
      "              )\n",
      "            )\n",
      "            (1): ResidualAdd(\n",
      "              (fn): Sequential(\n",
      "                (0): LayerNorm2d((512,), eps=1e-05, elementwise_affine=True)\n",
      "                (1): MixMLP(\n",
      "                  (0): Conv2d(512, 512, kernel_size=(1, 1), stride=(1, 1))\n",
      "                  (1): Conv2d(512, 2048, kernel_size=(3, 3), stride=(1, 1), padding=(1, 1), groups=512)\n",
      "                  (2): GELU()\n",
      "                  (3): Conv2d(2048, 512, kernel_size=(1, 1), stride=(1, 1))\n",
      "                )\n",
      "                (2): StochasticDepth(p=0.0, mode=batch)\n",
      "              )\n",
      "            )\n",
      "          )\n",
      "          (1): SegFormerEncoderBlock(\n",
      "            (0): ResidualAdd(\n",
      "              (fn): Sequential(\n",
      "                (0): LayerNorm2d((512,), eps=1e-05, elementwise_affine=True)\n",
      "                (1): EfficientMultiHeadAttention(\n",
      "                  (reducer): Sequential(\n",
      "                    (0): Conv2d(512, 512, kernel_size=(1, 1), stride=(1, 1))\n",
      "                    (1): LayerNorm2d((512,), eps=1e-05, elementwise_affine=True)\n",
      "                  )\n",
      "                  (att): MultiheadAttention(\n",
      "                    (out_proj): NonDynamicallyQuantizableLinear(in_features=512, out_features=512, bias=True)\n",
      "                  )\n",
      "                )\n",
      "              )\n",
      "            )\n",
      "            (1): ResidualAdd(\n",
      "              (fn): Sequential(\n",
      "                (0): LayerNorm2d((512,), eps=1e-05, elementwise_affine=True)\n",
      "                (1): MixMLP(\n",
      "                  (0): Conv2d(512, 512, kernel_size=(1, 1), stride=(1, 1))\n",
      "                  (1): Conv2d(512, 2048, kernel_size=(3, 3), stride=(1, 1), padding=(1, 1), groups=512)\n",
      "                  (2): GELU()\n",
      "                  (3): Conv2d(2048, 512, kernel_size=(1, 1), stride=(1, 1))\n",
      "                )\n",
      "                (2): StochasticDepth(p=0.0, mode=batch)\n",
      "              )\n",
      "            )\n",
      "          )\n",
      "          (2): SegFormerEncoderBlock(\n",
      "            (0): ResidualAdd(\n",
      "              (fn): Sequential(\n",
      "                (0): LayerNorm2d((512,), eps=1e-05, elementwise_affine=True)\n",
      "                (1): EfficientMultiHeadAttention(\n",
      "                  (reducer): Sequential(\n",
      "                    (0): Conv2d(512, 512, kernel_size=(1, 1), stride=(1, 1))\n",
      "                    (1): LayerNorm2d((512,), eps=1e-05, elementwise_affine=True)\n",
      "                  )\n",
      "                  (att): MultiheadAttention(\n",
      "                    (out_proj): NonDynamicallyQuantizableLinear(in_features=512, out_features=512, bias=True)\n",
      "                  )\n",
      "                )\n",
      "              )\n",
      "            )\n",
      "            (1): ResidualAdd(\n",
      "              (fn): Sequential(\n",
      "                (0): LayerNorm2d((512,), eps=1e-05, elementwise_affine=True)\n",
      "                (1): MixMLP(\n",
      "                  (0): Conv2d(512, 512, kernel_size=(1, 1), stride=(1, 1))\n",
      "                  (1): Conv2d(512, 2048, kernel_size=(3, 3), stride=(1, 1), padding=(1, 1), groups=512)\n",
      "                  (2): GELU()\n",
      "                  (3): Conv2d(2048, 512, kernel_size=(1, 1), stride=(1, 1))\n",
      "                )\n",
      "                (2): StochasticDepth(p=0.0, mode=batch)\n",
      "              )\n",
      "            )\n",
      "          )\n",
      "        )\n",
      "        (norm): LayerNorm2d((512,), eps=1e-05, elementwise_affine=True)\n",
      "      )\n",
      "    )\n",
      "  )\n",
      "  (decoder): SegFormerDecoder(\n",
      "    (stages): ModuleList(\n",
      "      (0): SegFormerDecoderBlock(\n",
      "        (0): UpsamplingBilinear2d(scale_factor=8.0, mode=bilinear)\n",
      "        (1): Conv2d(512, 256, kernel_size=(1, 1), stride=(1, 1))\n",
      "      )\n",
      "      (1): SegFormerDecoderBlock(\n",
      "        (0): UpsamplingBilinear2d(scale_factor=4.0, mode=bilinear)\n",
      "        (1): Conv2d(256, 256, kernel_size=(1, 1), stride=(1, 1))\n",
      "      )\n",
      "      (2): SegFormerDecoderBlock(\n",
      "        (0): UpsamplingBilinear2d(scale_factor=2.0, mode=bilinear)\n",
      "        (1): Conv2d(128, 256, kernel_size=(1, 1), stride=(1, 1))\n",
      "      )\n",
      "      (3): SegFormerDecoderBlock(\n",
      "        (0): UpsamplingBilinear2d(scale_factor=1.0, mode=bilinear)\n",
      "        (1): Conv2d(64, 256, kernel_size=(1, 1), stride=(1, 1))\n",
      "      )\n",
      "    )\n",
      "  )\n",
      "  (head): SegFormerSegmentationHead(\n",
      "    (fuse): Sequential(\n",
      "      (0): Conv2d(1024, 256, kernel_size=(1, 1), stride=(1, 1), bias=False)\n",
      "      (1): ReLU()\n",
      "      (2): BatchNorm2d(256, eps=1e-05, momentum=0.1, affine=True, track_running_stats=True)\n",
      "    )\n",
      "    (predict): Conv2d(256, 2, kernel_size=(1, 1), stride=(1, 1))\n",
      "  )\n",
      ")\n"
     ]
    }
   ],
   "source": [
    "model = setup_model(cfg)\n",
    "print(model)\n",
    "#state_dict = torch.load(\n",
    "#    \"../models/drawn-cherry-59/epoch_28_train_f1=74.239/model.pth\", \n",
    "#    map_location=torch.device(device)\n",
    "#)\n",
    "# model.load_state_dict(state_dict)\n",
    "model = model.to(device)\n",
    "interp = torch.nn.Upsample(size=(128, 128), mode=\"bilinear\")"
   ]
  },
  {
   "cell_type": "code",
   "execution_count": 6,
   "metadata": {},
   "outputs": [],
   "source": [
    "train_dataset = LandslideDataSet(\n",
    "    \"../data/\",\n",
    "    \"../data/train.txt\",\n",
    "    max_iters=1,\n",
    "    set=\"labeled\",\n",
    ")\n",
    "\n",
    "train_loader: DataLoader[LandslideDataSet] = DataLoader(\n",
    "    train_dataset,\n",
    "    batch_size=100,\n",
    "    shuffle=True,\n",
    "    num_workers=cfg.train.num_workers,\n",
    "    pin_memory=True,\n",
    ")"
   ]
  },
  {
   "cell_type": "code",
   "execution_count": 7,
   "metadata": {},
   "outputs": [
    {
     "name": "stderr",
     "output_type": "stream",
     "text": [
      "Evaluating on val...:   0%|          | 0/38 [00:00<?, ?it/s]/opt/conda/envs/landslide/lib/python3.8/site-packages/torch/nn/functional.py:3631: UserWarning: Default upsampling behavior when mode=bilinear is changed to align_corners=False since 0.4.0. Please specify align_corners=True if the old behavior is desired. See the documentation of nn.Upsample for details.\n",
      "  warnings.warn(\n",
      "Evaluating on val...: 100%|██████████| 38/38 [01:27<00:00,  2.31s/it]\n"
     ]
    }
   ],
   "source": [
    "model.eval()\n",
    "all_preds = []\n",
    "all_labels = []\n",
    "pbar = tqdm(\n",
    "    enumerate(train_loader),\n",
    "    desc=f\"Evaluating on val...\",\n",
    "    total=len(train_loader),\n",
    ")\n",
    "\n",
    "for i, batch in pbar:\n",
    "    image, label, _, name = batch\n",
    "    label = label.squeeze().numpy().astype(np.uint8)\n",
    "    image = image.float().to(device)\n",
    "\n",
    "    with torch.no_grad():\n",
    "        pred = model(image)\n",
    "\n",
    "    pred = interp(F.softmax(pred, dim=1)).half().detach()\n",
    "    all_preds.append(pred)\n",
    "    all_labels.append(label)"
   ]
  },
  {
   "cell_type": "code",
   "execution_count": 11,
   "metadata": {},
   "outputs": [
    {
     "name": "stdout",
     "output_type": "stream",
     "text": [
      "preds shape (3800, 2, 128, 128)\n"
     ]
    },
    {
     "data": {
      "text/plain": [
       "(3800, 128, 128)"
      ]
     },
     "execution_count": 11,
     "metadata": {},
     "output_type": "execute_result"
    }
   ],
   "source": [
    "preds = torch.cat(all_preds).cpu().numpy()\n",
    "print(\"preds shape\", preds.shape)\n",
    "labels = np.concatenate(all_labels)\n",
    "labels.shape"
   ]
  },
  {
   "cell_type": "code",
   "execution_count": 12,
   "metadata": {},
   "outputs": [],
   "source": [
    "def evaluate(y_pred, y_true):\n",
    "    TP, FP, TN, FN, n_valid_sample = eval_image(\n",
    "        y_pred.astype(np.uint8).squeeze().reshape(-1) , \n",
    "        y_true.astype(np.uint8).squeeze().reshape(-1), \n",
    "        2\n",
    "    )\n",
    "    \n",
    "    OA = np.sum(TP[1]) * 1.0 / n_valid_sample\n",
    "    P = np.squeeze((TP[1] * 1.0) / (TP[1] + FP[1] + EPSILON))\n",
    "    R = np.squeeze((TP[1] * 1.0) / (TP[1] + FN[1] + EPSILON))\n",
    "    F1 = (2.0 * P * R) / (P + R + EPSILON)\n",
    "    return OA, P, R, F1"
   ]
  },
  {
   "cell_type": "code",
   "execution_count": 10,
   "metadata": {},
   "outputs": [
    {
     "name": "stderr",
     "output_type": "stream",
     "text": [
      "100%|██████████| 100/100 [04:23<00:00,  2.64s/it]\n"
     ]
    }
   ],
   "source": [
    "num_classes = 2\n",
    "num_thresholds = 100\n",
    "\n",
    "def initialize_arrays(num: int, size: int):\n",
    "    arrays = []\n",
    "    for _ in range(num):\n",
    "        arrays.append(np.zeros((size, 1)))\n",
    "    return arrays\n",
    "\n",
    "thrs, f1s, ps, rs, oas = initialize_arrays(5, num_thresholds)\n",
    "\n",
    "for i, thr in tqdm(enumerate(np.linspace(.1, .9, num_thresholds)), total=num_thresholds):\n",
    "    y_pred = (preds[:, 1, :, :] > thr)\n",
    "    OA, P, R, F1 = evaluate(y_pred, labels)\n",
    "    thrs[i] = thr\n",
    "    oas[i] = OA\n",
    "    ps[i] = P\n",
    "    rs[i] = R\n",
    "    f1s[i] = F1"
   ]
  },
  {
   "cell_type": "code",
   "execution_count": 13,
   "metadata": {},
   "outputs": [
    {
     "data": {
      "text/plain": [
       "array(0.40707071)"
      ]
     },
     "execution_count": 13,
     "metadata": {},
     "output_type": "execute_result"
    }
   ],
   "source": [
    "best_idx = f1s.argmax()\n",
    "optimal_thr = np.squeeze(thrs[best_idx])\n",
    "optimal_thr "
   ]
  },
  {
   "cell_type": "code",
   "execution_count": 14,
   "metadata": {},
   "outputs": [
    {
     "data": {
      "text/plain": [
       "0.05933289432740901"
      ]
     },
     "execution_count": 14,
     "metadata": {},
     "output_type": "execute_result"
    }
   ],
   "source": [
    "best_f1 = f1s.max()\n",
    "best_f1"
   ]
  },
  {
   "cell_type": "code",
   "execution_count": 15,
   "metadata": {},
   "outputs": [
    {
     "data": {
      "image/png": "[encoded data removed]",
      "text/plain": [
       "<Figure size 432x288 with 1 Axes>"
      ]
     },
     "metadata": {
      "needs_background": "light"
     },
     "output_type": "display_data"
    }
   ],
   "source": [
    "plt.plot(thrs, f1s, label=f\"F1: {np.round(best_f1, 3)}\")\n",
    "plt.plot(thrs, ps, label=f\"Precision: {np.round(ps[best_idx], 3)}\")\n",
    "plt.plot(thrs, rs, label=f\"Recall {np.round(rs[best_idx], 3)}\")\n",
    "#plt.xlim(optimal_thr - .3, optimal_thr + .3)\n",
    "plt.axvline(optimal_thr, label=f\"Thr: {np.round(optimal_thr, 2)}\")\n",
    "plt.legend()\n",
    "plt.show()"
   ]
  },
  {
   "cell_type": "code",
   "execution_count": 16,
   "metadata": {},
   "outputs": [
    {
     "data": {
      "image/png": "[encoded data removed]",
      "text/plain": [
       "<Figure size 432x288 with 1 Axes>"
      ]
     },
     "metadata": {
      "needs_background": "light"
     },
     "output_type": "display_data"
    }
   ],
   "source": [
    "plt.hist(preds.squeeze().reshape(-1), bins=100)\n",
    "plt.show()"
   ]
  },
  {
   "cell_type": "markdown",
   "metadata": {},
   "source": [
    "# Visualiation"
   ]
  },
  {
   "cell_type": "code",
   "execution_count": 3,
   "metadata": {},
   "outputs": [
    {
     "ename": "NameError",
     "evalue": "name 'preds' is not defined",
     "output_type": "error",
     "traceback": [
      "\u001b[0;31m---------------------------------------------------------------------------\u001b[0m",
      "\u001b[0;31mNameError\u001b[0m                                 Traceback (most recent call last)",
      "\u001b[0;32m/tmp/ipykernel_8447/3255196179.py\u001b[0m in \u001b[0;36m<cell line: 3>\u001b[0;34m()\u001b[0m\n\u001b[1;32m      1\u001b[0m \u001b[0mindex\u001b[0m \u001b[0;34m=\u001b[0m \u001b[0;36m0\u001b[0m\u001b[0;34m\u001b[0m\u001b[0;34m\u001b[0m\u001b[0m\n\u001b[1;32m      2\u001b[0m \u001b[0;34m\u001b[0m\u001b[0m\n\u001b[0;32m----> 3\u001b[0;31m \u001b[0mpredicted\u001b[0m \u001b[0;34m=\u001b[0m \u001b[0;34m(\u001b[0m\u001b[0mpreds\u001b[0m\u001b[0;34m[\u001b[0m\u001b[0mindex\u001b[0m\u001b[0;34m,\u001b[0m \u001b[0;36m1\u001b[0m\u001b[0;34m,\u001b[0m \u001b[0;34m...\u001b[0m\u001b[0;34m]\u001b[0m \u001b[0;34m>\u001b[0m \u001b[0moptimal_thr\u001b[0m\u001b[0;34m)\u001b[0m\u001b[0;34m.\u001b[0m\u001b[0mastype\u001b[0m\u001b[0;34m(\u001b[0m\u001b[0;34m'uint8'\u001b[0m\u001b[0;34m)\u001b[0m\u001b[0;34m\u001b[0m\u001b[0;34m\u001b[0m\u001b[0m\n\u001b[0m\u001b[1;32m      4\u001b[0m \u001b[0mreal\u001b[0m \u001b[0;34m=\u001b[0m \u001b[0mlabels\u001b[0m\u001b[0;34m[\u001b[0m\u001b[0mindex\u001b[0m\u001b[0;34m,\u001b[0m \u001b[0;34m...\u001b[0m\u001b[0;34m]\u001b[0m\u001b[0;34m\u001b[0m\u001b[0;34m\u001b[0m\u001b[0m\n\u001b[1;32m      5\u001b[0m \u001b[0;34m\u001b[0m\u001b[0m\n",
      "\u001b[0;31mNameError\u001b[0m: name 'preds' is not defined"
     ]
    }
   ],
   "source": [
    "index = 0\n",
    "\n",
    "predicted = (preds[index, 1, ...] > optimal_thr).astype('uint8')\n",
    "real = labels[index, ...]\n",
    "\n",
    "fig, ax = plt.subplots(nrows=1, ncols=3, figsize=(15, 5))\n",
    "ax[0].imshow(predicted, cmap=\"gray\")\n",
    "ax[0].set_title(\"Predicted\")\n",
    "\n",
    "ax[1].imshow(real, cmap=\"gray\")\n",
    "ax[1].set_title(\"Real\")\n",
    "\n",
    "error = np.zeros((*real.shape, 3))\n",
    "\n",
    "error[..., 0] = (real != predicted)\n",
    "error[..., 1] = (real == 1) & (real == predicted)\n",
    "ax[2].imshow(error)\n",
    "ax[2].set_title(\"Error\")\n",
    "\n",
    "plt.show()"
   ]
  },
  {
   "cell_type": "markdown",
   "metadata": {},
   "source": [
    "## How many no-mask images do the dataset have?"
   ]
  },
  {
   "cell_type": "code",
   "execution_count": 18,
   "metadata": {},
   "outputs": [],
   "source": [
    "train_dataset = LandslideDataSet(\n",
    "    \"../data/\",\n",
    "    \"../data/train.txt\",\n",
    "    max_iters=1,\n",
    "    set=\"labeled\",\n",
    ")\n",
    "\n",
    "train_loader: DataLoader[LandslideDataSet] = DataLoader(\n",
    "    train_dataset,\n",
    "    batch_size=1,\n",
    "    shuffle=True,\n",
    "    num_workers=cfg.train.num_workers,\n",
    "    pin_memory=True,\n",
    ")"
   ]
  },
  {
   "cell_type": "code",
   "execution_count": 19,
   "metadata": {},
   "outputs": [
    {
     "name": "stderr",
     "output_type": "stream",
     "text": [
      "perc. of zeros = 41.26%: 100%|██████████| 3800/3800 [01:03<00:00, 59.91it/s]\n"
     ]
    }
   ],
   "source": [
    "zeros = 0\n",
    "pbar = tqdm(\n",
    "    enumerate(train_loader),\n",
    "    desc=f\"Evaluating on train...\",\n",
    "    total=len(train_loader),\n",
    ")\n",
    "clean_names = []\n",
    "zero_mask_names = []\n",
    "\n",
    "for i, batch in pbar:\n",
    "    image, label, _, name = batch\n",
    "    pixel_sum = label.sum()\n",
    "    if pixel_sum == 0:\n",
    "        zeros += 1\n",
    "        zero_mask_names.append(name[0])\n",
    "    else:\n",
    "        clean_names.append(name[0])\n",
    "    perc = (zeros / (i+1)) * 100\n",
    "    perc = round(perc, 2)\n",
    "    pbar.set_description(f\"perc. of zeros = {perc}%\")"
   ]
  },
  {
   "cell_type": "code",
   "execution_count": 20,
   "metadata": {},
   "outputs": [],
   "source": [
    "random.shuffle(zero_mask_names)"
   ]
  },
  {
   "cell_type": "code",
   "execution_count": 23,
   "metadata": {},
   "outputs": [
    {
     "data": {
      "text/plain": [
       "248"
      ]
     },
     "execution_count": 23,
     "metadata": {},
     "output_type": "execute_result"
    }
   ],
   "source": [
    "desired_perc_zero_mask = 0.1\n",
    "num_selected_zero_mask = int((desired_perc_zero_mask * len(clean_names)) / (1 - desired_perc_zero_mask))\n",
    "num_selected_zero_mask"
   ]
  },
  {
   "cell_type": "code",
   "execution_count": 24,
   "metadata": {},
   "outputs": [],
   "source": [
    "selected_zero_mask_names = zero_mask_names[:num_selected_zero_mask]"
   ]
  },
  {
   "cell_type": "code",
   "execution_count": 25,
   "metadata": {},
   "outputs": [],
   "source": [
    "cleaned_names = selected_zero_mask_names + clean_names"
   ]
  },
  {
   "cell_type": "code",
   "execution_count": 27,
   "metadata": {},
   "outputs": [
    {
     "data": {
      "text/plain": [
       "0.1"
      ]
     },
     "execution_count": 27,
     "metadata": {},
     "output_type": "execute_result"
    }
   ],
   "source": [
    "len(selected_zero_mask_names) / len(cleaned_names)"
   ]
  },
  {
   "cell_type": "code",
   "execution_count": 28,
   "metadata": {},
   "outputs": [],
   "source": [
    "random.shuffle(cleaned_names)"
   ]
  },
  {
   "cell_type": "code",
   "execution_count": 29,
   "metadata": {},
   "outputs": [],
   "source": [
    "with open(\"/content/drive/MyDrive/data_science_projects/landslide4sense-2022/data/train_cleaned.txt\", \"w\") as f:\n",
    "    for name in cleaned_names:\n",
    "        f.write(name + \"\\n\")"
   ]
  },
  {
   "cell_type": "code",
   "execution_count": 30,
   "metadata": {},
   "outputs": [
    {
     "data": {
      "text/plain": [
       "2480"
      ]
     },
     "execution_count": 30,
     "metadata": {},
     "output_type": "execute_result"
    }
   ],
   "source": [
    "len(cleaned_names)"
   ]
  },
  {
   "cell_type": "code",
   "execution_count": 32,
   "metadata": {},
   "outputs": [
    {
     "data": {
      "text/plain": [
       "2232"
      ]
     },
     "execution_count": 32,
     "metadata": {},
     "output_type": "execute_result"
    }
   ],
   "source": [
    "train_dataset = LandslideDataSet(\n",
    "    \"../data/\",\n",
    "    \"../data/train_cleaned.txt\",\n",
    "    max_iters=1,\n",
    "    set=\"labeled\",\n",
    ")\n",
    "\n",
    "train_loader: DataLoader[LandslideDataSet] = DataLoader(\n",
    "    train_dataset,\n",
    "    batch_size=1,\n",
    "    shuffle=True,\n",
    "    num_workers=cfg.train.num_workers,\n",
    "    pin_memory=True,\n",
    ")\n",
    "\n",
    "zeros = 0\n",
    "pbar = tqdm(\n",
    "    enumerate(train_loader),\n",
    "    desc=f\"Evaluating on train...\",\n",
    "    total=len(train_loader),\n",
    ")\n",
    "clean_names = []\n",
    "zero_mask_names = []\n",
    "\n",
    "for i, batch in pbar:\n",
    "    image, label, _, name = batch\n",
    "    pixel_sum = label.sum()\n",
    "    if pixel_sum == 0:\n",
    "        zeros += 1\n",
    "        zero_mask_names.append(name[0])\n",
    "    else:\n",
    "        clean_names.append(name[0])\n",
    "    perc = (zeros / (i+1)) * 100\n",
    "    perc = round(perc, 2)\n",
    "    pbar.set_description(f\"perc. of zeros = {perc}%\")"
   ]
  }
 ],
 "metadata": {
  "interpreter": {
   "hash": "94762e0d6eb676bf8f163b96cdfc05850b418a942445b65802fa2d31f3442eb5"
  },
  "kernelspec": {
   "display_name": "Python 3.8.13 ('landslide')",
   "language": "python",
   "name": "python3"
  },
  "language_info": {
   "codemirror_mode": {
    "name": "ipython",
    "version": 3
   },
   "file_extension": ".py",
   "mimetype": "text/x-python",
   "name": "python",
   "nbconvert_exporter": "python",
   "pygments_lexer": "ipython3",
   "version": "3.8.13"
  },
  "orig_nbformat": 4
 },
 "nbformat": 4,
 "nbformat_minor": 2
}
