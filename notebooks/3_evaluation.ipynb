{
 "cells": [
  {
   "cell_type": "code",
   "execution_count": 1,
   "metadata": {},
   "outputs": [],
   "source": [
    "from landslide4sense.models import Unet\n",
    "from landslide4sense.data import LandslideDataSet\n",
    "from landslide4sense.data import LandslideDataSet\n",
    "from landslide4sense.utils.tools import eval_image\n",
    "from landslide4sense.models import Unet\n",
    "from landslide4sense import EPSILON\n",
    "from torch.utils.data import DataLoader\n",
    "import torch\n",
    "import torch.nn.functional as F\n",
    "import omegaconf\n",
    "import matplotlib.pyplot as plt\n",
    "from torch.nn import Upsample, CrossEntropyLoss\n",
    "import numpy as np\n",
    "from tqdm import tqdm"
   ]
  },
  {
   "cell_type": "code",
   "execution_count": 2,
   "metadata": {},
   "outputs": [
    {
     "data": {
      "text/plain": [
       "{'data': {'dir': '${hydra:runtime.cwd}/data/', 'train_list': '${hydra:runtime.cwd}/data/train.txt', 'eval_lists_paths': ['${hydra:runtime.cwd}/data/train.txt'], 'eval_names': ['train'], 'test_list': '${hydra:runtime.cwd}/data/valid.txt', 'input_size': [128, 128], 'augmentation': {'module': 'landslide4sense.data.augmentations', 'name': 'transforms'}}, 'model': {'restore_from': None, 'module': 'segmentation_models_pytorch', 'name': 'UnetPlusPlus', 'args': {'in_channels': 14, 'classes': 2}}, 'optimizer': {'restore_from': None, 'module': 'torch.optim', 'name': 'Adam', 'args': {'lr': 0.001, 'weight_decay': 0.0005}}, 'loss': {'module': 'segmentation_models_pytorch.losses', 'name': 'DiceLoss', 'args': {'ignore_index': 255, 'mode': 'multiclass'}}, 'train': {'start_epoch': 0, 'steps_per_epoch': 125, 'batch_size': 128, 'num_workers': 2, 'num_steps': 10000, 'num_steps_stop': 10000, 'gpu_id': 0, 'snapshot_dir': '/content/drive/MyDrive/data_science_projects/landslide4sense-2022/models/', 'seed': 42, 'callbacks': {'early_stopping': {'monitor': 'val_f1', 'mode': 'max', 'patience': 10, 'best_result': 0.5}, 'wandb': {'group': 'Unet++', 'tags': ['val_split', 'spatial_data_aug', 'sgd_momentum', 'non_spatial_data_aug']}}}}"
      ]
     },
     "execution_count": 2,
     "metadata": {},
     "output_type": "execute_result"
    }
   ],
   "source": [
    "device = \"cuda\" if torch.cuda.is_available() else \"cpu\"\n",
    "cfg = omegaconf.OmegaConf.load(\"../conf/config.yaml\")\n",
    "cfg"
   ]
  },
  {
   "cell_type": "code",
   "execution_count": 3,
   "metadata": {},
   "outputs": [],
   "source": [
    "model_path = \"/content/drive/MyDrive/data_science_projects/landslide4sense-2022/models/split_data_aug/epoch_7_val_f1=73.21207127753885.pth\"\n",
    "model_state_dict = torch.load(\n",
    "    model_path,\n",
    "    map_location=torch.device('cpu')\n",
    ")\n",
    "model = Unet(n_classes=2)\n",
    "model.load_state_dict(model_state_dict)\n",
    "interp = torch.nn.Upsample(size=(128, 128), mode=\"bilinear\")"
   ]
  },
  {
   "cell_type": "code",
   "execution_count": 4,
   "metadata": {},
   "outputs": [],
   "source": [
    "train_dataset = LandslideDataSet(\n",
    "    \"../data/\",\n",
    "    \"../data/train_split_val.txt\",\n",
    "    max_iters=1,\n",
    "    set=\"labeled\",\n",
    ")"
   ]
  },
  {
   "cell_type": "code",
   "execution_count": 5,
   "metadata": {},
   "outputs": [],
   "source": [
    "train_loader: DataLoader[LandslideDataSet] = DataLoader(\n",
    "    train_dataset,\n",
    "    batch_size=1,\n",
    "    shuffle=True,\n",
    "    num_workers=cfg.train.num_workers,\n",
    "    pin_memory=True,\n",
    ")"
   ]
  },
  {
   "cell_type": "code",
   "execution_count": 6,
   "metadata": {},
   "outputs": [
    {
     "name": "stderr",
     "output_type": "stream",
     "text": [
      "Evaluating on train...:   0%|          | 0/301 [00:00<?, ?it/s]/usr/local/lib/python3.7/dist-packages/torch/nn/functional.py:3635: UserWarning: Default upsampling behavior when mode=bilinear is changed to align_corners=False since 0.4.0. Please specify align_corners=True if the old behavior is desired. See the documentation of nn.Upsample for details.\n",
      "  \"See the documentation of nn.Upsample for details.\".format(mode)\n",
      "Evaluating on train...: 100%|██████████| 301/301 [02:24<00:00,  2.08it/s]\n"
     ]
    }
   ],
   "source": [
    "model.eval()\n",
    "all_preds = []\n",
    "\n",
    "for i, batch in tqdm(\n",
    "    enumerate(train_loader),\n",
    "    desc=f\"Evaluating on train...\",\n",
    "    total=len(train_loader),\n",
    "):\n",
    "    image, label, _, name = batch\n",
    "    label = label.squeeze().numpy()\n",
    "    image = image.float().to(device)\n",
    "\n",
    "    with torch.no_grad():\n",
    "        pred = model(image)\n",
    "\n",
    "    pred = interp(F.softmax(pred, dim=1)).detach()\n",
    "    all_preds.append(pred)"
   ]
  },
  {
   "cell_type": "code",
   "execution_count": 17,
   "metadata": {},
   "outputs": [
    {
     "name": "stderr",
     "output_type": "stream",
     "text": [
      "100%|██████████| 301/301 [00:00<00:00, 439.24it/s]"
     ]
    },
    {
     "name": "stdout",
     "output_type": "stream",
     "text": [
      "0.20927704294256202\n",
      "1.871809415768576\n",
      "0.376463685921544\n"
     ]
    },
    {
     "name": "stderr",
     "output_type": "stream",
     "text": [
      "\n"
     ]
    },
    {
     "data": {
      "text/plain": [
       "array([[0.98744832],\n",
       "       [0.00376464]])"
      ]
     },
     "execution_count": 17,
     "metadata": {},
     "output_type": "execute_result"
    }
   ],
   "source": [
    "thr = 0.5\n",
    "num_classes = 2\n",
    "\n",
    "TP_all = np.zeros((num_classes, 1))\n",
    "FP_all = np.zeros((num_classes, 1))\n",
    "TN_all = np.zeros((num_classes, 1))\n",
    "FN_all = np.zeros((num_classes, 1))\n",
    "F1 = np.zeros((num_classes, 1))\n",
    "n_valid_sample_all = 0\n",
    "\n",
    "for pred in tqdm(all_preds):\n",
    "    pred = (pred[:, 1, :, :] > thr).long()\n",
    "    pred = pred.squeeze().data.cpu().numpy()\n",
    "    TP, FP, TN, FN, n_valid_sample = eval_image(\n",
    "        pred.reshape(-1), label.reshape(-1), num_classes\n",
    "    )\n",
    "    TP_all += TP\n",
    "    FP_all += FP\n",
    "    TN_all += TN\n",
    "    FN_all += FN\n",
    "    n_valid_sample_all += n_valid_sample\n",
    "\n",
    "OA = np.sum(TP_all) * 1.0 / n_valid_sample_all\n",
    "for i in range(num_classes):\n",
    "    P = TP_all[i] * 1.0 / (TP_all[i] + FP_all[i] + EPSILON)\n",
    "    R = TP_all[i] * 1.0 / (TP_all[i] + FN_all[i] + EPSILON)\n",
    "    F1[i] = 2.0 * P * R / (P + R + EPSILON)\n",
    "    if i == 1:\n",
    "        precision =  P[0] * 100\n",
    "        recall = R[0] * 100\n",
    "        f1 = F1[i][0] * 100\n",
    "\n",
    "print(precision)\n",
    "print(recall)\n",
    "print(f1)\n",
    "F1"
   ]
  },
  {
   "cell_type": "code",
   "execution_count": 13,
   "metadata": {},
   "outputs": [
    {
     "data": {
      "text/plain": [
       "16384"
      ]
     },
     "execution_count": 13,
     "metadata": {},
     "output_type": "execute_result"
    }
   ],
   "source": [
    "n_valid_sample"
   ]
  }
 ],
 "metadata": {
  "interpreter": {
   "hash": "931f95a48b1f956a525e0044c8cfe4391ad53e1dcbe6c822fd93d2d22ff4e3c2"
  },
  "kernelspec": {
   "display_name": "Python 3.8.13 ('landslide')",
   "language": "python",
   "name": "python3"
  },
  "language_info": {
   "codemirror_mode": {
    "name": "ipython",
    "version": 3
   },
   "file_extension": ".py",
   "mimetype": "text/x-python",
   "name": "python",
   "nbconvert_exporter": "python",
   "pygments_lexer": "ipython3",
   "version": "3.7.13"
  },
  "orig_nbformat": 4
 },
 "nbformat": 4,
 "nbformat_minor": 2
}
